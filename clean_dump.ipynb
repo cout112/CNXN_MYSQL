{
 "cells": [
  {
   "cell_type": "code",
   "execution_count": 5,
   "metadata": {},
   "outputs": [],
   "source": [
    "import os\n",
    "import pandas as pd\n",
    "import numpy as np"
   ]
  },
  {
   "cell_type": "code",
   "execution_count": 6,
   "metadata": {},
   "outputs": [],
   "source": [
    "BASE_PATH = os.getcwd()\n",
    "DUMP_PATH = os.path.join(BASE_PATH, 'DUMPS')\n",
    "FILE_NAME = 'dumpfile.sql'"
   ]
  },
  {
   "cell_type": "code",
   "execution_count": 11,
   "metadata": {},
   "outputs": [],
   "source": [
    "file = open(os.path.join(DUMP_PATH, FILE_NAME), 'r')\n",
    "text = file.read()\n",
    "lines = text.split('\\n')"
   ]
  },
  {
   "cell_type": "code",
   "execution_count": 15,
   "metadata": {},
   "outputs": [],
   "source": [
    "create_tables = []\n",
    "useful_lines = []\n",
    "within_command = False\n",
    "user_table = False\n",
    "for line in lines[:]:\n",
    "    line = line.strip()\n",
    "\n",
    "    \n",
    "    if line.startswith('--'):\n",
    "        continue\n",
    "    if len(line) == 0:\n",
    "        continue\n",
    "    \n",
    "    if not within_command and line.lower().startswith('create table'):\n",
    "        within_command = True\n",
    "\n",
    "    if within_command:\n",
    "        useful_lines.append(line)\n",
    "\n",
    "        # Check if table is an user table\n",
    "        if line.lower().startswith('user_id'):\n",
    "            user_table = True\n",
    "\n",
    "        # End command\n",
    "        if line[-1] == ';':\n",
    "            if user_table:\n",
    "                create_tables.append(useful_lines)\n",
    "            within_command = False\n",
    "            user_table = False\n",
    "            useful_lines = []\n",
    "    \n",
    "# result = '\\n'.join(useful_lines)"
   ]
  },
  {
   "cell_type": "code",
   "execution_count": 21,
   "metadata": {},
   "outputs": [
    {
     "name": "stdout",
     "output_type": "stream",
     "text": [
      "0\n"
     ]
    }
   ],
   "source": [
    "tables = ['\\n'.join(command) for command in create_tables]\n",
    "tables_2 = tables.copy()\n",
    "c = 0\n",
    "for table in tables_2:\n",
    "    if table not in tables:\n",
    "        c+=1\n",
    "    \n",
    "print(c)\n"
   ]
  },
  {
   "cell_type": "code",
   "execution_count": 20,
   "metadata": {},
   "outputs": [],
   "source": [
    "dest_file = open(os.path.join(DUMP_PATH, 'user_tables.sql'), 'w')\n",
    "dest_file.write(result)\n",
    "dest_file.close()"
   ]
  },
  {
   "cell_type": "code",
   "execution_count": null,
   "metadata": {},
   "outputs": [],
   "source": []
  }
 ],
 "metadata": {
  "kernelspec": {
   "display_name": "Python 3",
   "language": "python",
   "name": "python3"
  },
  "language_info": {
   "codemirror_mode": {
    "name": "ipython",
    "version": 3
   },
   "file_extension": ".py",
   "mimetype": "text/x-python",
   "name": "python",
   "nbconvert_exporter": "python",
   "pygments_lexer": "ipython3",
   "version": "3.10.8 (tags/v3.10.8:aaaf517, Oct 11 2022, 16:50:30) [MSC v.1933 64 bit (AMD64)]"
  },
  "orig_nbformat": 4,
  "vscode": {
   "interpreter": {
    "hash": "b0eed398af10aae12ef8234fe952736abd5e1e5738c42fe88f491d909ca16b50"
   }
  }
 },
 "nbformat": 4,
 "nbformat_minor": 2
}
